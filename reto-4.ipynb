{
 "cells": [
  {
   "cell_type": "markdown",
   "metadata": {},
   "source": [
    "1. Dado un número entero, determinar si ese número corresponde al código ASCII de una vocal minúscula."
   ]
  },
  {
   "cell_type": "code",
   "execution_count": null,
   "metadata": {},
   "outputs": [],
   "source": [
    "x= int(input(\"Ingrese el numero: \"))\n",
    "\n",
    "vocal = chr(x)\n",
    "\n",
    "if vocal == \"a\" or vocal == \"e\" or vocal == \"i\" or vocal == \"o\" or vocal == \"u\":\n",
    "    print(f\"El numero {x} corresponde al codigo ASCII de una vocal minúscula\")\n",
    "\n",
    "else:\n",
    "    print(f\"El numero {x} NO corresponde al codigo ASCII de una vocal minúscula\")"
   ]
  },
  {
   "cell_type": "markdown",
   "metadata": {},
   "source": [
    "2.Dada una cadena de longitud 1, determine si el código ASCII de primera letra de la cadena es par o no."
   ]
  },
  {
   "cell_type": "code",
   "execution_count": null,
   "metadata": {},
   "outputs": [],
   "source": [
    "x = str(input(\"Ingresa un caracter\"))\n",
    "y = x[0]\n",
    "if ord(y) % 2 == 0:\n",
    "    print(\"El codigo ASCII de la primera letra es par\")\n",
    "else: \n",
    "    print(\"El codigo ASCII de la primera letra no es par\")"
   ]
  },
  {
   "cell_type": "markdown",
   "metadata": {},
   "source": [
    "3. Dado un carácter, construya un programa en Python para determinar si el carácter es un dígito o no.\n",
    "\n"
   ]
  },
  {
   "cell_type": "code",
   "execution_count": null,
   "metadata": {},
   "outputs": [],
   "source": [
    "x = input(\"Ingresa un unico digito:\")\n",
    "if x in (\"1\", \"2\", \"3\", \"4\", \"5\", \"6\", \"7\", \"8\", \"9\", \"0\"):\n",
    "    print(\"Si es un digito\")\n",
    "else: \n",
    "    print(\"No es un digito\")"
   ]
  },
  {
   "cell_type": "markdown",
   "metadata": {},
   "source": [
    "4. Dado un número real x, construya un programa que permita determinar si el número es positivo, negativo o cero. Para cada caso de debe imprimir el texto que se especifica a continuación:\n",
    "\n",
    "Positivo: \"El número x es positivo\"\n",
    "Negativo: \"El número x es negativo\"\n",
    "Cero (0): \"El número x es el neutro para la suma\""
   ]
  },
  {
   "cell_type": "code",
   "execution_count": null,
   "metadata": {},
   "outputs": [],
   "source": [
    "x = float(input(\"Ingrese un numero real\"))\n",
    "if x < 0:\n",
    "    print(\"El número x es negativo\")\n",
    "elif x > 0:\n",
    "    print(\"El número x es positivo\")\n",
    "else:\n",
    "    print(\"El número x es el neutro para la suma\")"
   ]
  },
  {
   "cell_type": "markdown",
   "metadata": {},
   "source": [
    "5. Dado el centro y el radio de un círculo, determinar si un punto de R2 pertenece o no al interior del círculo."
   ]
  },
  {
   "cell_type": "code",
   "execution_count": null,
   "metadata": {},
   "outputs": [],
   "source": [
    "centroX = float(input(\"Ingrese la coordenada del centro en x: \"))\n",
    "centroY = float(input(\"Ingrese la coordenada en y: \"))\n",
    "radio = float(input(\"Ingrese el radio del circulo: \"))\n",
    "x = float(input(\"Ingrese la coordenada del punto en y: \"))\n",
    "y = float(input(\"Ingrese la coordenada del punto en y: \"))\n",
    "PI = 3.14159\n",
    "area= PI * radio**2\n",
    "distancia = (x - centroX)**2 + (y- centroY)**2\n",
    "if  distancia < area:\n",
    "    print(\"El punto se encuentra dentro del circulo\")\n",
    "else:\n",
    "    print(\"El punto no se encuentra dentro del circulo\")"
   ]
  },
  {
   "cell_type": "markdown",
   "metadata": {},
   "source": [
    "6.Dadas tres longitudes positivas, determinar si con esas longitudes se puede construir un triángulo."
   ]
  },
  {
   "cell_type": "code",
   "execution_count": null,
   "metadata": {},
   "outputs": [],
   "source": [
    "c1= int(input(\"Ingrese la longitud del primer cateto \"))\n",
    "c2 = int(input(\"Ingrese la longitud del segundo cateto \"))\n",
    "h= int(input(\"Ingrese la longitud de la hipotenusa \"))\n",
    "\n",
    "if c1**2 + c2**2 == h**2:\n",
    "    print(\"Con las 3 longitudes se puede formar un triangulo rectangulo.\")\n",
    "elif c1 + c2 == h and c2 + h > c1 and h + c1 > c2:\n",
    "    print(\"Con las 3 longitudes se puede formar un triangulo.\")\n",
    "else:\n",
    "    print(\"Con las 3 longitudes no se puede formar un triangulo.\")"
   ]
  }
 ],
 "metadata": {
  "kernelspec": {
   "display_name": "Python 3",
   "language": "python",
   "name": "python3"
  },
  "language_info": {
   "codemirror_mode": {
    "name": "ipython",
    "version": 3
   },
   "file_extension": ".py",
   "mimetype": "text/x-python",
   "name": "python",
   "nbconvert_exporter": "python",
   "pygments_lexer": "ipython3",
   "version": "3.12.2"
  }
 },
 "nbformat": 4,
 "nbformat_minor": 2
}
